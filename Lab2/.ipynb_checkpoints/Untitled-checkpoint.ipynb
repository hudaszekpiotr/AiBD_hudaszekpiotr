{
 "cells": [
  {
   "cell_type": "markdown",
   "id": "b7efce00",
   "metadata": {},
   "source": [
    "# Przygotowanie środowiska do pracy w DS\n",
    "Piotr Hudaszek <br>\n",
    "nr albumu 402035 <br>\n",
    "grupa 2B piątek 10:45 <br>\n",
    "AiBD"
   ]
  },
  {
   "cell_type": "code",
   "execution_count": null,
   "id": "e69ff7d9",
   "metadata": {},
   "outputs": [],
   "source": [
    "import pandas as pd"
   ]
  },
  {
   "cell_type": "code",
   "execution_count": null,
   "id": "d40787fd",
   "metadata": {},
   "outputs": [],
   "source": []
  },
  {
   "cell_type": "code",
   "execution_count": null,
   "id": "7033bdb6",
   "metadata": {},
   "outputs": [],
   "source": []
  }
 ],
 "metadata": {
  "kernelspec": {
   "display_name": "Python 3",
   "language": "python",
   "name": "python3"
  },
  "language_info": {
   "codemirror_mode": {
    "name": "ipython",
    "version": 3
   },
   "file_extension": ".py",
   "mimetype": "text/x-python",
   "name": "python",
   "nbconvert_exporter": "python",
   "pygments_lexer": "ipython3",
   "version": "3.9.4"
  }
 },
 "nbformat": 4,
 "nbformat_minor": 5
}
